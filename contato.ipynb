{
  "cells": [
    {
      "cell_type": "raw",
      "metadata": {},
      "source": [
        "---\n",
        "title: \"Contato\"\n",
        "---"
      ],
      "id": "da025ef2"
    },
    {
      "cell_type": "markdown",
      "metadata": {},
      "source": [
        "Prof. Dr. José Maurício Schneedorf Ferreira da Silva \n",
        "\n",
        "* email: jose.dasilva@unifal-mg.edu.br\n",
        "* Fone: (35) - 3291-1928\n",
        "* Endereço: Depto. de Bioquímica, Instituto de Ciências Biomédicas, Universidade Federal de Alfenas, UNIFAL-MG. Prédio E, sala 209. Alfenas, MG. CEP: '37.130-001', Brasil\n",
        "  \n",
        "\n",
        "\n",
        "[![](https://www.unifal-mg.edu.br/portal/wp-content/uploads/sites/52/2020/01/cropped-logo-portal-3-3.png)](https://www.unifal-mg.edu.br/dbq/)\n",
        "\n",
        "<!--- Localização maps mais geral da UNIFAL ---> <!---<iframe src=\"https://www.google.com/maps/embed?pb=!1m14!1m8!1m3!1d14856.808587232881!2d-45.9491053325595!3d-21.421298023307546!3m2!1i1024!2i768!4f13.1!3m3!1m2!1s0x94b5f5ac8b5a247f%3A0x46cb2184f1223f91!2sUniversidade%20Federal%20de%20Alfenas%20-%20UNIFAL-MG!5e0!3m2!1spt-BR!2sbr!4v1711806121046!5m2!1spt-BR!2sbr\" width=\"600\" height=\"450\" style=\"border:0;\" allowfullscreen=\"\" loading=\"lazy\" referrerpolicy=\"no-referrer-when-downgrade\"></iframe> --->\n",
        "\n",
        "<iframe src=\"https://www.google.com/maps/embed?pb=!1m10!1m8!1m3!1d2393.9293190289077!2d-45.948059!3d-21.42069!3m2!1i1024!2i768!4f13.1!5e1!3m2!1spt-BR!2sus!4v1711807591749!5m2!1spt-BR!2sus\" width=\"600\" height=\"450\" style=\"border:0;\" allowfullscreen=\"\" loading=\"lazy\" referrerpolicy=\"no-referrer-when-downgrade\"></iframe>\n",
        "\n",
        "\n",
        "```{html}\n",
        "Site licenciado por CC BY-NC-ND 4.0 \n",
        "```\n",
        "\n",
        "\n",
        "https://creativecommons.org/licenses/by-nc-nd/4.0/deed.pt-br\n"
      ],
      "id": "93767969"
    }
  ],
  "metadata": {
    "kernelspec": {
      "name": "python3",
      "language": "python",
      "display_name": "Python 3 (ipykernel)"
    }
  },
  "nbformat": 4,
  "nbformat_minor": 5
}